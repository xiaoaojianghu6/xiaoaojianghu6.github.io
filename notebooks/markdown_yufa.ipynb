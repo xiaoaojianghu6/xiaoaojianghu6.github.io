{
 "cells": [
  {
   "cell_type": "markdown",
   "id": "0d701fad-6ec0-4785-8c32-e4fb4d22b78c",
   "metadata": {},
   "source": [
    "    ---\n",
    "    这是分割线\n",
    "    # biaoti\n",
    "    ## fubiaoti\n",
    "    *xieti*\n",
    "    **cuti**\n",
    "    - wuxubiao\n",
    "      - fubiao\n",
    "    1. diyi\n",
    "    2. dier\n",
    "    ---"
   ]
  },
  {
   "cell_type": "markdown",
   "id": "4aa21b2b-a7a2-40ec-bb35-32b20a257038",
   "metadata": {},
   "source": [
    "---\n",
    "这是分割线\n",
    "# biaoti\n",
    "## fubiaoti\n",
    "*xieti*\n",
    "**cuti**\n",
    "- wuxubiao\n",
    "  - fubiao\n",
    "1. diyi\n",
    "2. dier\n",
    "---"
   ]
  },
  {
   "cell_type": "markdown",
   "id": "f3e23590-9cab-4a4b-b714-0e955260283e",
   "metadata": {},
   "source": [
    "    `shift`+`option`+`~` or `~` in english board means code or强调"
   ]
  },
  {
   "cell_type": "markdown",
   "id": "7d6c26f9-0bc7-4c98-bb26-b3e3f537d57e",
   "metadata": {},
   "source": [
    "`shift`+`option`+`~` or `~` in english board means code or强调"
   ]
  },
  {
   "cell_type": "markdown",
   "id": "f1489113-5892-4600-bcdd-3ee1f457c085",
   "metadata": {},
   "source": [
    "    [william's blog的链接](https://xiaoaojianghu6.github.io)"
   ]
  },
  {
   "cell_type": "markdown",
   "id": "e7b6a60a-3c78-44e4-853f-c93ac4db5b7b",
   "metadata": {},
   "source": [
    "[william's blog的链接](https://xiaoaojianghu6.github.io)\n"
   ]
  },
  {
   "cell_type": "markdown",
   "id": "78ff2d96-cd49-4d5f-97d6-3ce127b79186",
   "metadata": {},
   "source": [
    "    [biaoti](#biaoti \"Goto biaoti\")\n",
    "    这是文内索引"
   ]
  },
  {
   "cell_type": "markdown",
   "id": "7a1bf674-0627-41bf-bfcc-d59063ba1a5f",
   "metadata": {},
   "source": [
    "[biaoti](#biaoti \"Goto biaoti\")\n",
    "这是文内索引\n"
   ]
  },
  {
   "cell_type": "markdown",
   "id": "ead2cf6e-b7b8-4d8a-85bb-672af72238fb",
   "metadata": {},
   "source": [
    "---"
   ]
  },
  {
   "cell_type": "markdown",
   "id": "ecdf4c31-7dc8-4cf1-a96a-c09b68a34e8f",
   "metadata": {},
   "source": [
    "    \\#\n",
    "    让一个符号变成普通符号\n",
    "    > 引用\n"
   ]
  },
  {
   "cell_type": "markdown",
   "id": "bfdf188f-4ef8-40b5-a17d-f13ef5ed901d",
   "metadata": {},
   "source": [
    "\\#\n",
    "让一个符号变成普通符号\n",
    "> 引用\n"
   ]
  },
  {
   "cell_type": "markdown",
   "id": "39bd10d3-df23-4160-8964-cdce7be14ee5",
   "metadata": {},
   "source": [
    "    ---\n",
    "    - [ ] An uncompleted task\n",
    "    - [x] A completed task\n"
   ]
  },
  {
   "cell_type": "markdown",
   "id": "e30a3f20-f60e-43e7-8f42-b74f548d95f7",
   "metadata": {},
   "source": [
    "---\n",
    "- [ ] An uncompleted task\n",
    "- [x] A completed task\n",
    "      "
   ]
  },
  {
   "cell_type": "markdown",
   "id": "350cd046-61e0-4917-a449-116d004448d3",
   "metadata": {},
   "source": [
    "    ---\n",
    "    这是表格\n",
    "    First Header  | Second Header\n",
    "    ------------- | -------------\n",
    "    Content Cell  | Content Cell\n",
    "    Content Cell  | Content Cell"
   ]
  },
  {
   "cell_type": "markdown",
   "id": "46cc62ae-398e-48d6-9cbd-2af8f28c5423",
   "metadata": {},
   "source": [
    "---\n",
    "First Header  | Second Header\n",
    "------------- | -------------\n",
    "Content Cell  | Content Cell\n",
    "Content Cell  | Content Cell"
   ]
  },
  {
   "cell_type": "markdown",
   "id": "96513a6e-d9e3-4fbe-9edb-ad492b5c8fcb",
   "metadata": {},
   "source": [
    "`control`+`command`+` `    for emoji\n",
    "\n",
    "like this:🥮  🎥  🎙️..."
   ]
  },
  {
   "cell_type": "markdown",
   "id": "dbea1980-ff6b-4c80-ae7a-07f9c1c49816",
   "metadata": {},
   "source": [
    "图片插入\n",
    "\n",
    "✅ 方法 1：拖拽上传（适用于 VS Code、Typora、Notion）\n",
    "\n",
    "    ![描述文本](./图片文件名.png)\n",
    "\n",
    "✅ 方法 2：Markdown 语法 + 本地路径\n",
    "\n",
    "    ![描述文本](./images/example.png)\n",
    "\n",
    "✅ 方法 3：Jupyter Notebook 本地图片\n",
    "\n",
    "    用 HTML：\n",
    "    <img src=\"your_image.png\" width=\"300\">\n",
    "\n",
    "    或者：\n",
    "    ![描述文本](attachment:your_image.png)\n",
    "\n",
    "但`attachment:`语法需要手动将图片拖入Jupyter，并确保文件路径正确\n",
    "\n",
    "---"
   ]
  },
  {
   "cell_type": "code",
   "execution_count": null,
   "id": "8a344df1-dbba-46f9-a802-853615f9d0e0",
   "metadata": {},
   "outputs": [],
   "source": []
  }
 ],
 "metadata": {
  "kernelspec": {
   "display_name": "Python 3 (ipykernel)",
   "language": "python",
   "name": "python3"
  },
  "language_info": {
   "codemirror_mode": {
    "name": "ipython",
    "version": 3
   },
   "file_extension": ".py",
   "mimetype": "text/x-python",
   "name": "python",
   "nbconvert_exporter": "python",
   "pygments_lexer": "ipython3",
   "version": "3.12.9"
  }
 },
 "nbformat": 4,
 "nbformat_minor": 5
}
